{
 "cells": [
  {
   "cell_type": "markdown",
   "metadata": {},
   "source": [
    "# Intersection CSV to GeoJSON Converstion Script"
   ]
  },
  {
   "cell_type": "markdown",
   "metadata": {},
   "source": [
    "Input list of intersections as CSV file in format: ID, Name1, Name2, Latitude, Longitude\n",
    "\n",
    "Where Name 1 could be north/south street name and Name 2 could be east/west street name\n",
    "\n",
    "### CSV Input Example:\n",
    "2,California Blvd,Ygnacio Valley Rd,37.904976, -122.065751\n",
    "\n",
    "\n",
    "Outputs GeoJSON feature files from input data and adds elevation in feet when available.\n",
    "\n",
    "### GeoJSON Output Example:\n",
    "{\n",
    "    \"geometry\": {\n",
    "        \"coordinates\": [\n",
    "            -122.065751,\n",
    "            37.904976,\n",
    "            156.12\n",
    "        ],\n",
    "        \"type\": \"Point\"\n",
    "    },\n",
    "    \"id\": \"02\",\n",
    "    \"properties\": {\n",
    "        \"name\": \"California Blvd & Ygnacio Valley Rd\"\n",
    "    },"
   ]
  },
  {
   "cell_type": "code",
   "execution_count": null,
   "metadata": {},
   "outputs": [],
   "source": [
    "#imports\n",
    "from geojson import Point, Feature, FeatureCollection, dump\n",
    "import csv\n",
    "\n",
    "import requests\n",
    "import urllib\n",
    "\n",
    "import os, sys"
   ]
  },
  {
   "cell_type": "code",
   "execution_count": null,
   "metadata": {},
   "outputs": [],
   "source": [
    "#Variables\n",
    "\n",
    "features = []\n",
    "input_filename = \"../WalnutCreekIntersections.csv\"\n",
    "output_filename = \"../WalnutCreekIntersections-Mar2022.geojson\"\n",
    "url = r'https://nationalmap.gov/epqs/pqs.php?'\n"
   ]
  },
  {
   "cell_type": "code",
   "execution_count": null,
   "metadata": {},
   "outputs": [],
   "source": [
    "def elevation_of_location(lat, lon):\n",
    "    \"\"\"Query service using lat, lon. Add the elevation values as a new column.\"\"\"\n",
    "    # define rest query params\n",
    "    params = {\n",
    "        'output': 'json',\n",
    "        'x': lon,\n",
    "        'y': lat,\n",
    "        'units': 'Feet' #'Meters' is also available\n",
    "    }\n",
    "    # format query string and return query value\n",
    "    result = requests.get((url + urllib.parse.urlencode(params)))\n",
    "    if result is not None:\n",
    "        return result.json()['USGS_Elevation_Point_Query_Service']['Elevation_Query']['Elevation']\n",
    "    else: \n",
    "        return None\n",
    "        "
   ]
  },
  {
   "cell_type": "code",
   "execution_count": null,
   "metadata": {},
   "outputs": [],
   "source": [
    "def read_file():\n",
    "    \"read in csv file and output geojson file\"\n",
    "    with open(input_filename, \"r\") as csv_file:\n",
    "        csv_reader = csv.reader(csv_file, delimiter=\",\")\n",
    "        line_count = 0\n",
    "        for row in csv_reader:\n",
    "            lat = float(row[3])\n",
    "            lon = float(row[4])\n",
    "            ele = elevation_of_location(lat,lon)\n",
    "            if ele is not None:\n",
    "                features.append(Feature(geometry=Point( ( lon, lat, ele )), properties={\"name\": row[1] +\" & \"+ row[2]}, id=row[0] ))\n",
    "                \n",
    "            else:\n",
    "                features.append(Feature(geometry=Point( ( lon, lat)), properties={\"name\": row[1] +\" & \"+ row[2]}, id=row[0] ))\n",
    "                \n",
    "            line_count += 1\n",
    "            print(f'Processing line #{line_count}')\n",
    "            \n",
    "        feature_collection = FeatureCollection(features)\n",
    "        with open(output_filename, 'w') as f:\n",
    "        \tdump(feature_collection, f, sort_keys=True, indent=4, separators=(',', ': '))\n",
    "        print(f\"Processed {line_count} intersections and saved as {output_filename}\")\n",
    "        \n",
    "\n"
   ]
  },
  {
   "cell_type": "code",
   "execution_count": null,
   "metadata": {},
   "outputs": [],
   "source": [
    "read_file()\n",
    "\n",
    "#python3 -m json.tool output_filename.geojson > output_filenameV2.geojson\n",
    "\n",
    "\n",
    "\n"
   ]
  },
  {
   "cell_type": "code",
   "execution_count": null,
   "metadata": {},
   "outputs": [],
   "source": []
  },
  {
   "cell_type": "code",
   "execution_count": null,
   "metadata": {},
   "outputs": [],
   "source": []
  }
 ],
 "metadata": {
  "kernelspec": {
   "display_name": "Python 3",
   "language": "python",
   "name": "python3"
  },
  "language_info": {
   "codemirror_mode": {
    "name": "ipython",
    "version": 3
   },
   "file_extension": ".py",
   "mimetype": "text/x-python",
   "name": "python",
   "nbconvert_exporter": "python",
   "pygments_lexer": "ipython3",
   "version": "3.6.8"
  }
 },
 "nbformat": 4,
 "nbformat_minor": 2
}
